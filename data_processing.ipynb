{
 "cells": [
  {
   "cell_type": "code",
   "execution_count": 11,
   "metadata": {},
   "outputs": [],
   "source": [
    "# import dependencies\n",
    "from bs4 import BeautifulSoup as bs\n",
    "import pandas as pd\n",
    "from selenium import webdriver\n",
    "from zipfile import ZipFile\n",
    "import urllib.request\n",
    "import os"
   ]
  },
  {
   "cell_type": "code",
   "execution_count": 14,
   "metadata": {},
   "outputs": [],
   "source": [
    "# since we can't use requests to get links from the html,\n",
    "# we must use chromedriver to emulate visiting the page\n",
    "browser = webdriver.Chrome()\n",
    "browser.get('https://s3.amazonaws.com/tripdata/index.html')"
   ]
  },
  {
   "cell_type": "code",
   "execution_count": 34,
   "metadata": {},
   "outputs": [
    {
     "data": {
      "text/plain": [
       "['https://s3.amazonaws.com/tripdata/201901-citibike-tripdata.csv.zip',\n",
       " 'https://s3.amazonaws.com/tripdata/201902-citibike-tripdata.csv.zip',\n",
       " 'https://s3.amazonaws.com/tripdata/201903-citibike-tripdata.csv.zip',\n",
       " 'https://s3.amazonaws.com/tripdata/201904-citibike-tripdata.csv.zip',\n",
       " 'https://s3.amazonaws.com/tripdata/201905-citibike-tripdata.csv.zip',\n",
       " 'https://s3.amazonaws.com/tripdata/201906-citibike-tripdata.csv.zip',\n",
       " 'https://s3.amazonaws.com/tripdata/201907-citibike-tripdata.csv.zip',\n",
       " 'https://s3.amazonaws.com/tripdata/201908-citibike-tripdata.csv.zip',\n",
       " 'https://s3.amazonaws.com/tripdata/201909-citibike-tripdata.csv.zip',\n",
       " 'https://s3.amazonaws.com/tripdata/201910-citibike-tripdata.csv.zip',\n",
       " 'https://s3.amazonaws.com/tripdata/201911-citibike-tripdata.csv.zip',\n",
       " 'https://s3.amazonaws.com/tripdata/201912-citibike-tripdata.csv.zip']"
      ]
     },
     "execution_count": 34,
     "metadata": {},
     "output_type": "execute_result"
    }
   ],
   "source": [
    "# get all the anchors in the page\n",
    "anchors = browser.find_elements_by_tag_name('a')\n",
    "\n",
    "# create list of all the links\n",
    "links_all = [link.get_attribute('href') for link in anchors]\n",
    "\n",
    "# create list of 2019 NYC links\n",
    "links_2019 = [link for link in links_all if 'JC' not in link and '2019' in link]\n",
    "\n",
    "# preview links\n",
    "links_2019"
   ]
  },
  {
   "cell_type": "code",
   "execution_count": 35,
   "metadata": {},
   "outputs": [],
   "source": [
    "link = links_2019[0]\n",
    "# open link, download as temporary zip file, create dataframe\n",
    "url = urllib.request.urlopen(link)\n",
    "temp_file = open('temp.zip', 'wb').write(url.read()).close()"
   ]
  },
  {
   "cell_type": "code",
   "execution_count": 36,
   "metadata": {},
   "outputs": [],
   "source": [
    "df = pd.read_csv('temp.zip')"
   ]
  },
  {
   "cell_type": "code",
   "execution_count": 41,
   "metadata": {},
   "outputs": [],
   "source": [
    "# rename columns\n",
    "df.columns = ['Trip Duration', 'Start Time', 'Stop Time', 'Start Station ID', 'Start Station Name', 'Start Station Latitude', 'Start Station Longitude', 'End Station ID', 'End Station Name', 'End Station Latitude', 'End Station Longitude', 'Bike ID', 'User Type', 'Birth Year', 'Gender']"
   ]
  },
  {
   "cell_type": "code",
   "execution_count": 47,
   "metadata": {},
   "outputs": [],
   "source": [
    "# function for creating dataframe for each link\n",
    "def create_df(link):\n",
    "    \n",
    "    # open link, download as temporary zip file, and create dataframe\n",
    "    url = urllib.request.urlopen(link)\n",
    "    temp_file = open('temp.zip', 'wb').write(url.read())\n",
    "    df = pd.read_csv('temp.zip')\n",
    "        \n",
    "    # rename columns\n",
    "    df.columns = ['Trip Duration', \n",
    "                  'Start Time', \n",
    "                  'Stop Time', \n",
    "                  'Start Station ID', \n",
    "                  'Start Station Name', \n",
    "                  'Start Station Latitude', \n",
    "                  'Start Station Longitude', \n",
    "                  'End Station ID', \n",
    "                  'End Station Name', \n",
    "                  'End Station Latitude', \n",
    "                  'End Station Longitude', \n",
    "                  'Bike ID', \n",
    "                  'User Type', \n",
    "                  'Birth Year', \n",
    "                  'Gender']\n",
    "    \n",
    "    # print link for confirmation\n",
    "    print(link)\n",
    "    \n",
    "    # remove temperary file\n",
    "    os.remove('temp.zip')\n",
    "    \n",
    "    return df"
   ]
  },
  {
   "cell_type": "code",
   "execution_count": 55,
   "metadata": {},
   "outputs": [
    {
     "data": {
      "text/plain": [
       "Trip Duration                int64\n",
       "Start Time                  object\n",
       "Stop Time                   object\n",
       "Start Station ID           float64\n",
       "Start Station Name          object\n",
       "Start Station Latitude     float64\n",
       "Start Station Longitude    float64\n",
       "End Station ID             float64\n",
       "End Station Name            object\n",
       "End Station Latitude       float64\n",
       "End Station Longitude      float64\n",
       "Bike ID                      int64\n",
       "User Type                   object\n",
       "Birth Year                   int64\n",
       "Gender                       int64\n",
       "dtype: object"
      ]
     },
     "execution_count": 55,
     "metadata": {},
     "output_type": "execute_result"
    }
   ],
   "source": [
    "df.dtypes"
   ]
  },
  {
   "cell_type": "code",
   "execution_count": 77,
   "metadata": {},
   "outputs": [],
   "source": [
    "# drop NAs\n",
    "df.dropna(how='any').reset_index(drop=True)\n",
    "\n",
    "# convert start/stop times to datetime\n",
    "df['Start Time'] = pd.to_datetime(df['Start Time'])\n",
    "df['Stop Time'] = pd.to_datetime(df['Stop Time'])\n",
    "df.dtypes\n",
    "\n",
    "# add age column\n",
    "df['Age'] = 2019 - df['Birth Year']"
   ]
  },
  {
   "cell_type": "code",
   "execution_count": 79,
   "metadata": {},
   "outputs": [
    {
     "data": {
      "text/html": [
       "<div>\n",
       "<style scoped>\n",
       "    .dataframe tbody tr th:only-of-type {\n",
       "        vertical-align: middle;\n",
       "    }\n",
       "\n",
       "    .dataframe tbody tr th {\n",
       "        vertical-align: top;\n",
       "    }\n",
       "\n",
       "    .dataframe thead th {\n",
       "        text-align: right;\n",
       "    }\n",
       "</style>\n",
       "<table border=\"1\" class=\"dataframe\">\n",
       "  <thead>\n",
       "    <tr style=\"text-align: right;\">\n",
       "      <th></th>\n",
       "      <th>Start Station ID</th>\n",
       "      <th>Start Station Latitude</th>\n",
       "      <th>Start Station Longitude</th>\n",
       "      <th>End Station ID</th>\n",
       "      <th>End Station Latitude</th>\n",
       "      <th>End Station Longitude</th>\n",
       "      <th>Bike ID</th>\n",
       "      <th>Birth Year</th>\n",
       "      <th>Gender</th>\n",
       "      <th>Age</th>\n",
       "    </tr>\n",
       "  </thead>\n",
       "  <tbody>\n",
       "    <tr>\n",
       "      <th>count</th>\n",
       "      <td>967269.000000</td>\n",
       "      <td>967287.000000</td>\n",
       "      <td>967287.000000</td>\n",
       "      <td>967269.000000</td>\n",
       "      <td>967287.000000</td>\n",
       "      <td>967287.000000</td>\n",
       "      <td>967287.000000</td>\n",
       "      <td>967287.000000</td>\n",
       "      <td>967287.000000</td>\n",
       "      <td>967287.000000</td>\n",
       "    </tr>\n",
       "    <tr>\n",
       "      <th>mean</th>\n",
       "      <td>1620.420794</td>\n",
       "      <td>40.737268</td>\n",
       "      <td>-73.982138</td>\n",
       "      <td>1608.750936</td>\n",
       "      <td>40.737125</td>\n",
       "      <td>-73.982350</td>\n",
       "      <td>28917.729181</td>\n",
       "      <td>1978.841311</td>\n",
       "      <td>1.177713</td>\n",
       "      <td>40.158689</td>\n",
       "    </tr>\n",
       "    <tr>\n",
       "      <th>std</th>\n",
       "      <td>1454.906830</td>\n",
       "      <td>0.030353</td>\n",
       "      <td>0.018547</td>\n",
       "      <td>1453.416308</td>\n",
       "      <td>0.030117</td>\n",
       "      <td>0.018604</td>\n",
       "      <td>6223.319197</td>\n",
       "      <td>12.205457</td>\n",
       "      <td>0.465508</td>\n",
       "      <td>12.205457</td>\n",
       "    </tr>\n",
       "    <tr>\n",
       "      <th>min</th>\n",
       "      <td>72.000000</td>\n",
       "      <td>40.655400</td>\n",
       "      <td>-74.017134</td>\n",
       "      <td>72.000000</td>\n",
       "      <td>40.655400</td>\n",
       "      <td>-74.046305</td>\n",
       "      <td>14529.000000</td>\n",
       "      <td>1886.000000</td>\n",
       "      <td>0.000000</td>\n",
       "      <td>16.000000</td>\n",
       "    </tr>\n",
       "    <tr>\n",
       "      <th>25%</th>\n",
       "      <td>383.000000</td>\n",
       "      <td>40.718170</td>\n",
       "      <td>-73.994564</td>\n",
       "      <td>382.000000</td>\n",
       "      <td>40.718170</td>\n",
       "      <td>-73.994618</td>\n",
       "      <td>25940.000000</td>\n",
       "      <td>1969.000000</td>\n",
       "      <td>1.000000</td>\n",
       "      <td>30.000000</td>\n",
       "    </tr>\n",
       "    <tr>\n",
       "      <th>50%</th>\n",
       "      <td>508.000000</td>\n",
       "      <td>40.739323</td>\n",
       "      <td>-73.984907</td>\n",
       "      <td>507.000000</td>\n",
       "      <td>40.739126</td>\n",
       "      <td>-73.985180</td>\n",
       "      <td>30817.000000</td>\n",
       "      <td>1981.000000</td>\n",
       "      <td>1.000000</td>\n",
       "      <td>38.000000</td>\n",
       "    </tr>\n",
       "    <tr>\n",
       "      <th>75%</th>\n",
       "      <td>3263.000000</td>\n",
       "      <td>40.757148</td>\n",
       "      <td>-73.972826</td>\n",
       "      <td>3263.000000</td>\n",
       "      <td>40.756800</td>\n",
       "      <td>-73.973442</td>\n",
       "      <td>34031.000000</td>\n",
       "      <td>1989.000000</td>\n",
       "      <td>1.000000</td>\n",
       "      <td>50.000000</td>\n",
       "    </tr>\n",
       "    <tr>\n",
       "      <th>max</th>\n",
       "      <td>3728.000000</td>\n",
       "      <td>40.863000</td>\n",
       "      <td>-73.884000</td>\n",
       "      <td>3728.000000</td>\n",
       "      <td>40.866000</td>\n",
       "      <td>-73.881000</td>\n",
       "      <td>37889.000000</td>\n",
       "      <td>2003.000000</td>\n",
       "      <td>2.000000</td>\n",
       "      <td>133.000000</td>\n",
       "    </tr>\n",
       "  </tbody>\n",
       "</table>\n",
       "</div>"
      ],
      "text/plain": [
       "       Start Station ID  Start Station Latitude  Start Station Longitude  \\\n",
       "count     967269.000000           967287.000000            967287.000000   \n",
       "mean        1620.420794               40.737268               -73.982138   \n",
       "std         1454.906830                0.030353                 0.018547   \n",
       "min           72.000000               40.655400               -74.017134   \n",
       "25%          383.000000               40.718170               -73.994564   \n",
       "50%          508.000000               40.739323               -73.984907   \n",
       "75%         3263.000000               40.757148               -73.972826   \n",
       "max         3728.000000               40.863000               -73.884000   \n",
       "\n",
       "       End Station ID  End Station Latitude  End Station Longitude  \\\n",
       "count   967269.000000         967287.000000          967287.000000   \n",
       "mean      1608.750936             40.737125             -73.982350   \n",
       "std       1453.416308              0.030117               0.018604   \n",
       "min         72.000000             40.655400             -74.046305   \n",
       "25%        382.000000             40.718170             -73.994618   \n",
       "50%        507.000000             40.739126             -73.985180   \n",
       "75%       3263.000000             40.756800             -73.973442   \n",
       "max       3728.000000             40.866000             -73.881000   \n",
       "\n",
       "             Bike ID     Birth Year         Gender            Age  \n",
       "count  967287.000000  967287.000000  967287.000000  967287.000000  \n",
       "mean    28917.729181    1978.841311       1.177713      40.158689  \n",
       "std      6223.319197      12.205457       0.465508      12.205457  \n",
       "min     14529.000000    1886.000000       0.000000      16.000000  \n",
       "25%     25940.000000    1969.000000       1.000000      30.000000  \n",
       "50%     30817.000000    1981.000000       1.000000      38.000000  \n",
       "75%     34031.000000    1989.000000       1.000000      50.000000  \n",
       "max     37889.000000    2003.000000       2.000000     133.000000  "
      ]
     },
     "execution_count": 79,
     "metadata": {},
     "output_type": "execute_result"
    }
   ],
   "source": [
    "df.describe()"
   ]
  },
  {
   "cell_type": "code",
   "execution_count": 80,
   "metadata": {},
   "outputs": [],
   "source": [
    "# remove trips with a duration longer than 24 hours\n",
    "df['Trip Duration'] = df[df['Trip Duration'] < 86400]\n",
    "\n",
    "# remove trips with riders over age 100 (I mean come on)\n",
    "df['Age'] = df[df['Age'] < 100]"
   ]
  },
  {
   "cell_type": "code",
   "execution_count": 84,
   "metadata": {},
   "outputs": [
    {
     "data": {
      "text/plain": [
       "Trip Duration                      object\n",
       "Start Time                 datetime64[ns]\n",
       "Stop Time                  datetime64[ns]\n",
       "Start Station ID                  float64\n",
       "Start Station Name                 object\n",
       "Start Station Latitude            float64\n",
       "Start Station Longitude           float64\n",
       "End Station ID                    float64\n",
       "End Station Name                   object\n",
       "End Station Latitude              float64\n",
       "End Station Longitude             float64\n",
       "Bike ID                             int64\n",
       "User Type                          object\n",
       "Birth Year                          int64\n",
       "Gender                              int64\n",
       "Age                                object\n",
       "dtype: object"
      ]
     },
     "execution_count": 84,
     "metadata": {},
     "output_type": "execute_result"
    }
   ],
   "source": [
    "df.dtypes"
   ]
  },
  {
   "cell_type": "code",
   "execution_count": 76,
   "metadata": {},
   "outputs": [
    {
     "data": {
      "text/plain": [
       "Trip Duration              967044\n",
       "Start Time                 967044\n",
       "Stop Time                  967044\n",
       "Start Station ID           967044\n",
       "Start Station Name         967044\n",
       "Start Station Latitude     967044\n",
       "Start Station Longitude    967044\n",
       "End Station ID             967044\n",
       "End Station Name           967044\n",
       "End Station Latitude       967044\n",
       "End Station Longitude      967044\n",
       "Bike ID                    967044\n",
       "User Type                  967044\n",
       "Birth Year                 967044\n",
       "Gender                     967044\n",
       "dtype: int64"
      ]
     },
     "execution_count": 76,
     "metadata": {},
     "output_type": "execute_result"
    }
   ],
   "source": [
    "# drop NAs after filtering the data\n",
    "df.dropna(how='any').reset_index(drop=True).count()"
   ]
  },
  {
   "cell_type": "code",
   "execution_count": null,
   "metadata": {},
   "outputs": [],
   "source": []
  }
 ],
 "metadata": {
  "kernelspec": {
   "display_name": "Python 3",
   "language": "python",
   "name": "python3"
  },
  "language_info": {
   "codemirror_mode": {
    "name": "ipython",
    "version": 3
   },
   "file_extension": ".py",
   "mimetype": "text/x-python",
   "name": "python",
   "nbconvert_exporter": "python",
   "pygments_lexer": "ipython3",
   "version": "3.7.3"
  }
 },
 "nbformat": 4,
 "nbformat_minor": 4
}
